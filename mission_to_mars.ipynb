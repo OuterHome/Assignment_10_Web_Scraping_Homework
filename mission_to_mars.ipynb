{
 "cells": [
  {
   "cell_type": "code",
   "execution_count": 1,
   "metadata": {},
   "outputs": [],
   "source": [
    "# Import Dependencies\n",
    "import time as time\n",
    "import pandas as pd\n",
    "import requests\n",
    "import pymongo\n",
    "import re\n",
    "from collections import defaultdict\n",
    "from splinter import Browser\n",
    "from splinter.exceptions import ElementDoesNotExist\n",
    "from bs4 import BeautifulSoup\n"
   ]
  },
  {
   "cell_type": "code",
   "execution_count": 2,
   "metadata": {},
   "outputs": [],
   "source": [
    "# Initialize PyMongo to work with MongoDBs\n",
    "conn = 'mongodb://localhost:27017'\n",
    "client = pymongo.MongoClient(conn)"
   ]
  },
  {
   "cell_type": "code",
   "execution_count": 3,
   "metadata": {},
   "outputs": [],
   "source": [
    "# Define database and collection\n",
    "db = client.mars_db"
   ]
  },
  {
   "cell_type": "code",
   "execution_count": 4,
   "metadata": {},
   "outputs": [],
   "source": [
    "# Define function for initializing the chrome browser\n",
    "\n",
    "def init_browser():\n",
    "    executable_path = {'executable_path': 'chromedriver.exe'}\n",
    "    return Browser('chrome', **executable_path, headless=False)\n",
    "\n",
    "# Set path to chrome driver, and set browser type\n",
    "executable_path = {'executable_path': 'chromedriver.exe'}\n",
    "browser = Browser('chrome', **executable_path, headless=False)"
   ]
  },
  {
   "cell_type": "code",
   "execution_count": 5,
   "metadata": {},
   "outputs": [],
   "source": [
    "# Set URLs\n",
    "url_news = 'https://mars.nasa.gov/news/'\n",
    "url_img = 'https://www.jpl.nasa.gov/spaceimages/?search=&category=Mars'\n",
    "url_wx = 'https://twitter.com/marswxreport?lang=en'\n",
    "url_facts = 'http://space-facts.com/mars/'\n",
    "url_hemi = 'http://web.archive.org/web/20181114171728/https://astrogeology.usgs.gov/search/results?q=hemisphere+enhanced&k1=target&v1=Mars'"
   ]
  },
  {
   "cell_type": "code",
   "execution_count": 6,
   "metadata": {},
   "outputs": [],
   "source": [
    "# Create dictionary to store output\n",
    "#mars_dict = url_output"
   ]
  },
  {
   "cell_type": "code",
   "execution_count": 7,
   "metadata": {},
   "outputs": [],
   "source": [
    "# Set variables\n",
    "html = browser.html\n",
    "soup = BeautifulSoup(html, 'html.parser')"
   ]
  },
  {
   "cell_type": "code",
   "execution_count": 8,
   "metadata": {},
   "outputs": [
    {
     "name": "stdout",
     "output_type": "stream",
     "text": [
      "\n",
      "\n",
      "NASA's InSight Places First Instrument on Mars\n",
      "\n",
      "\n",
      "\n",
      "In deploying its first instrument onto the surface of Mars, the lander completes a major mission milestone.\n",
      "\n"
     ]
    }
   ],
   "source": [
    "# Create queries for each URL\n",
    "\n",
    "# Query for Mars news \n",
    "browser.visit(url_news)\n",
    "response_news = requests.get(url_news)\n",
    "soup = BeautifulSoup(response_news.text, 'html.parser')\n",
    "\n",
    "news_title = soup.find('div', class_=\"content_title\").text\n",
    "news_p = soup.find('div', class_=\"rollover_description_inner\").text\n",
    "print(news_title)\n",
    "print(news_p)"
   ]
  },
  {
   "cell_type": "code",
   "execution_count": 9,
   "metadata": {},
   "outputs": [
    {
     "name": "stdout",
     "output_type": "stream",
     "text": [
      "https://www.jpl.nasa.gov/spaceimages/images/largesize/PIA20464_hires.jpg\n"
     ]
    }
   ],
   "source": [
    "# Query for Mars Image\n",
    "browser.visit(url_img)\n",
    "response_img = requests.get(url_img)\n",
    "soup = BeautifulSoup(response_img.text, 'html.parser')\n",
    "\n",
    "# Use splinter to navigate to the full image details page\n",
    "xpath = '//*[@id=\"full_image\"]'\n",
    "browser.find_by_xpath(xpath).first.click()\n",
    "time.sleep(2)\n",
    "xpath2 = '//*[@id=\"fancybox-lock\"]/div/div[2]/div/div[1]/a[2]'\n",
    "browser.find_by_xpath(xpath2).first.click()\n",
    "time.sleep(2)\n",
    "xpath3 = '//*[@id=\"page\"]/section[1]/div/article/figure/a/img'\n",
    "browser.find_by_xpath(xpath3).first.click()\n",
    "featured_image_url = browser.url\n",
    "print(featured_image_url)"
   ]
  },
  {
   "cell_type": "code",
   "execution_count": 10,
   "metadata": {},
   "outputs": [
    {
     "name": "stdout",
     "output_type": "stream",
     "text": [
      "Sol 2271 (2018-12-26), high -7C/19F, low -70C/-93F, pressure at 8.31 hPa, daylight 06:41-18:54\n"
     ]
    }
   ],
   "source": [
    "# Query for Mars Weather\n",
    "browser.visit(url_wx)\n",
    "response_wx = requests.get(url_wx)\n",
    "soup = BeautifulSoup(response_wx.text, 'html.parser')\n",
    "\n",
    "mars_weather_gather = soup.find('p', class_='TweetTextSize TweetTextSize--normal js-tweet-text tweet-text').text\n",
    "\n",
    "if \"Sol\" and \"pressure\" in soup.find('p', class_='TweetTextSize TweetTextSize--normal js-tweet-text tweet-text').text:\n",
    "    mars_weather = mars_weather_gather\n",
    "else: \n",
    "    mars_weather = soup.find_next_sibling('p', class_='TweetTextSize TweetTextSize--normal js-tweet-text tweet-text').text\n",
    "\n",
    "print(mars_weather)"
   ]
  },
  {
   "cell_type": "code",
   "execution_count": 11,
   "metadata": {},
   "outputs": [
    {
     "data": {
      "text/plain": [
       "'\\n\\n\\nEquatorial Diameter:6,792 km\\n\\n\\n\\nPolar Diameter:6,752 km\\n\\n\\n\\nMass:6.42 x 10^23 kg (10.7% Earth)\\n\\n\\nMoons:2 (Phobos & Deimos)\\n\\n\\nOrbit Distance:227,943,824 km (1.52 AU)\\n\\n\\nOrbit Period:687 days (1.9 years)\\n\\n\\n\\nSurface Temperature: -153 to 20 °C\\n\\n\\nFirst Record:2nd millennium BC\\n\\n\\nRecorded By:Egyptian astronomers\\n\\n\\n'"
      ]
     },
     "execution_count": 11,
     "metadata": {},
     "output_type": "execute_result"
    }
   ],
   "source": [
    "# Query for Mars Facts\n",
    "browser.visit(url_facts)\n",
    "response_facts = requests.get(url_facts)\n",
    "soup = BeautifulSoup(response_facts.text, 'html.parser')\n",
    "\n",
    "mars_facts = soup.find('table', id='tablepress-mars').text\n",
    "mars_facts"
   ]
  },
  {
   "cell_type": "code",
   "execution_count": 12,
   "metadata": {},
   "outputs": [
    {
     "data": {
      "text/plain": [
       "['']"
      ]
     },
     "execution_count": 12,
     "metadata": {},
     "output_type": "execute_result"
    }
   ],
   "source": [
    "# Convert mars_facts into list\n",
    "mars_facts_list = mars_facts.split('\\n\\n\\n')\n",
    "mars_facts_list = list(map(lambda mars_facts_list: mars_facts_list.strip(), mars_facts_list))\n",
    "#mars_facts_list_split = [mars_facts_list.split(':', 1)[0] for i in mars_facts_list]\n",
    "mars_facts_list = [i.split(':') for i in mars_facts_list] \n",
    "mars_facts_list.pop(0)\n",
    "mars_facts_list.pop(9)\n"
   ]
  },
  {
   "cell_type": "code",
   "execution_count": 13,
   "metadata": {},
   "outputs": [
    {
     "data": {
      "text/plain": [
       "[['Equatorial Diameter', '6,792 km'],\n",
       " ['Polar Diameter', '6,752 km'],\n",
       " ['Mass', '6.42 x 10^23 kg (10.7% Earth)'],\n",
       " ['Moons', '2 (Phobos & Deimos)'],\n",
       " ['Orbit Distance', '227,943,824 km (1.52 AU)'],\n",
       " ['Orbit Period', '687 days (1.9 years)'],\n",
       " ['Surface Temperature', ' -153 to 20 °C'],\n",
       " ['First Record', '2nd millennium BC'],\n",
       " ['Recorded By', 'Egyptian astronomers']]"
      ]
     },
     "execution_count": 13,
     "metadata": {},
     "output_type": "execute_result"
    }
   ],
   "source": [
    "mars_facts_list\n",
    "mars_facts_list_flat = [val for sublist in mars_facts_list for val in sublist]\n",
    "mars_facts_list"
   ]
  },
  {
   "cell_type": "code",
   "execution_count": 14,
   "metadata": {},
   "outputs": [
    {
     "data": {
      "text/html": [
       "<div>\n",
       "<style scoped>\n",
       "    .dataframe tbody tr th:only-of-type {\n",
       "        vertical-align: middle;\n",
       "    }\n",
       "\n",
       "    .dataframe tbody tr th {\n",
       "        vertical-align: top;\n",
       "    }\n",
       "\n",
       "    .dataframe thead th {\n",
       "        text-align: right;\n",
       "    }\n",
       "</style>\n",
       "<table border=\"1\" class=\"dataframe\">\n",
       "  <thead>\n",
       "    <tr style=\"text-align: right;\">\n",
       "      <th></th>\n",
       "      <th>Criteria</th>\n",
       "      <th>Facts</th>\n",
       "    </tr>\n",
       "  </thead>\n",
       "  <tbody>\n",
       "    <tr>\n",
       "      <th>0</th>\n",
       "      <td>Equatorial Diameter</td>\n",
       "      <td>6,792 km</td>\n",
       "    </tr>\n",
       "    <tr>\n",
       "      <th>1</th>\n",
       "      <td>Polar Diameter</td>\n",
       "      <td>6,752 km</td>\n",
       "    </tr>\n",
       "    <tr>\n",
       "      <th>2</th>\n",
       "      <td>Mass</td>\n",
       "      <td>6.42 x 10^23 kg (10.7% Earth)</td>\n",
       "    </tr>\n",
       "    <tr>\n",
       "      <th>3</th>\n",
       "      <td>Moons</td>\n",
       "      <td>2 (Phobos &amp; Deimos)</td>\n",
       "    </tr>\n",
       "    <tr>\n",
       "      <th>4</th>\n",
       "      <td>Orbit Distance</td>\n",
       "      <td>227,943,824 km (1.52 AU)</td>\n",
       "    </tr>\n",
       "    <tr>\n",
       "      <th>5</th>\n",
       "      <td>Orbit Period</td>\n",
       "      <td>687 days (1.9 years)</td>\n",
       "    </tr>\n",
       "    <tr>\n",
       "      <th>6</th>\n",
       "      <td>Surface Temperature</td>\n",
       "      <td>-153 to 20 °C</td>\n",
       "    </tr>\n",
       "    <tr>\n",
       "      <th>7</th>\n",
       "      <td>First Record</td>\n",
       "      <td>2nd millennium BC</td>\n",
       "    </tr>\n",
       "    <tr>\n",
       "      <th>8</th>\n",
       "      <td>Recorded By</td>\n",
       "      <td>Egyptian astronomers</td>\n",
       "    </tr>\n",
       "  </tbody>\n",
       "</table>\n",
       "</div>"
      ],
      "text/plain": [
       "              Criteria                          Facts\n",
       "0  Equatorial Diameter                       6,792 km\n",
       "1       Polar Diameter                       6,752 km\n",
       "2                 Mass  6.42 x 10^23 kg (10.7% Earth)\n",
       "3                Moons            2 (Phobos & Deimos)\n",
       "4       Orbit Distance       227,943,824 km (1.52 AU)\n",
       "5         Orbit Period           687 days (1.9 years)\n",
       "6  Surface Temperature                  -153 to 20 °C\n",
       "7         First Record              2nd millennium BC\n",
       "8          Recorded By           Egyptian astronomers"
      ]
     },
     "execution_count": 14,
     "metadata": {},
     "output_type": "execute_result"
    }
   ],
   "source": [
    "# Load table data into dataframe\n",
    "mars_facts_df = pd.DataFrame(data = mars_facts_list)\n",
    "mars_facts_df.columns = [\"Criteria\", \"Facts\"]\n",
    "mars_facts_df"
   ]
  },
  {
   "cell_type": "code",
   "execution_count": 15,
   "metadata": {},
   "outputs": [],
   "source": [
    "# Convert df to HTML table string\n",
    "#mars_facts_html = mars_facts_df.to_html('mars_facts.html')\n",
    "#mars_facts_html"
   ]
  },
  {
   "cell_type": "code",
   "execution_count": 16,
   "metadata": {},
   "outputs": [
    {
     "data": {
      "text/plain": [
       "'<table border=\"1\" class=\"dataframe\">\\n  <thead>\\n    <tr style=\"text-align: right;\">\\n      <th></th>\\n      <th>Criteria</th>\\n      <th>Facts</th>\\n    </tr>\\n  </thead>\\n  <tbody>\\n    <tr>\\n      <th>0</th>\\n      <td>Equatorial Diameter</td>\\n      <td>6,792 km</td>\\n    </tr>\\n    <tr>\\n      <th>1</th>\\n      <td>Polar Diameter</td>\\n      <td>6,752 km</td>\\n    </tr>\\n    <tr>\\n      <th>2</th>\\n      <td>Mass</td>\\n      <td>6.42 x 10^23 kg (10.7% Earth)</td>\\n    </tr>\\n    <tr>\\n      <th>3</th>\\n      <td>Moons</td>\\n      <td>2 (Phobos &amp; Deimos)</td>\\n    </tr>\\n    <tr>\\n      <th>4</th>\\n      <td>Orbit Distance</td>\\n      <td>227,943,824 km (1.52 AU)</td>\\n    </tr>\\n    <tr>\\n      <th>5</th>\\n      <td>Orbit Period</td>\\n      <td>687 days (1.9 years)</td>\\n    </tr>\\n    <tr>\\n      <th>6</th>\\n      <td>Surface Temperature</td>\\n      <td>-153 to 20 °C</td>\\n    </tr>\\n    <tr>\\n      <th>7</th>\\n      <td>First Record</td>\\n      <td>2nd millennium BC</td>\\n    </tr>\\n    <tr>\\n      <th>8</th>\\n      <td>Recorded By</td>\\n      <td>Egyptian astronomers</td>\\n    </tr>\\n  </tbody>\\n</table>'"
      ]
     },
     "execution_count": 16,
     "metadata": {},
     "output_type": "execute_result"
    }
   ],
   "source": [
    "# Convert df to HTML table string\n",
    "mars_facts_html = mars_facts_df.to_html()\n",
    "mars_facts_html"
   ]
  },
  {
   "cell_type": "code",
   "execution_count": 35,
   "metadata": {},
   "outputs": [
    {
     "ename": "SyntaxError",
     "evalue": "can't assign to operator (<ipython-input-35-efa4831930ee>, line 39)",
     "output_type": "error",
     "traceback": [
      "\u001b[1;36m  File \u001b[1;32m\"<ipython-input-35-efa4831930ee>\"\u001b[1;36m, line \u001b[1;32m39\u001b[0m\n\u001b[1;33m    web + img_src = final_src\u001b[0m\n\u001b[1;37m                             ^\u001b[0m\n\u001b[1;31mSyntaxError\u001b[0m\u001b[1;31m:\u001b[0m can't assign to operator\n"
     ]
    }
   ],
   "source": [
    "img_url = []\n",
    "title = []\n",
    "url_hemi = 'http://web.archive.org/web/20181114171728/https://astrogeology.usgs.gov/search/results?q=hemisphere+enhanced&k1=target&v1=Mars'\n",
    "\n",
    "browser.visit(url_hemi)\n",
    "response_hemi = requests.get(url_hemi)\n",
    "\n",
    "# Create soup object from html\n",
    "soup = BeautifulSoup(response_hemi.text, 'html.parser')\n",
    "result = soup.find_all('h3')\n",
    "\n",
    "# Prepare string\n",
    "title_str = str(result)\n",
    "title_str = title_str.replace(\"<h3>\", \"\")\n",
    "title_str = title_str.replace(\"</h3>\", \"\")\n",
    "title_str = title_str.replace(\"[\", \"\")\n",
    "title_str = title_str.replace(\"]\", \"\")\n",
    "title_str = title_str.strip()\n",
    "if \"Hemisphere\" not in title_str:  \n",
    "    title_str = title_str.replace(\"Enhanced\", \"Hemisphere\")\n",
    "else:\n",
    "    pass\n",
    "title = title_str.split(\",\")\n",
    "\n",
    "xpath = '//*[@id=\"product-section\"]/div[2]/div[1]/div/a'\n",
    "browser.find_by_xpath(xpath).first.click()\n",
    "time.sleep(1)\n",
    "xpath2 = '//*[@id=\"wide-image\"]/div/ul/li[1]/a'\n",
    "browser.find_by_xpath(xpath2).first.click()\n",
    "time.sleep(1)\n",
    "#browser.back()\n",
    "url_1 = browser.url\n",
    "browser.visit(url_1)\n",
    "response_1 = requests.get(url_1)\n",
    "soup1 = BeautifulSoup(response_1.text, 'html.parser')\n",
    "soup1.find(\"img\", class_=\"wide-image\")[\"src\"]\n",
    "web + img_src = final_src\n",
    "img_url.append(final_src)"
   ]
  },
  {
   "cell_type": "code",
   "execution_count": 39,
   "metadata": {},
   "outputs": [
    {
     "data": {
      "text/plain": [
       "'http://web.archive.org/web/20181114182238im_/https://astrogeology.usgs.gov/cache/images/cfa62af2557222a02478f1fcd781d445_cerberus_enhanced.tif_full.jpg'"
      ]
     },
     "execution_count": 39,
     "metadata": {},
     "output_type": "execute_result"
    }
   ],
   "source": [
    "img_src = soup1.find(\"img\", class_=\"wide-image\")[\"src\"]\n",
    "final_src = \"http://web.archive.org\" + img_src \n",
    "final_src"
   ]
  },
  {
   "cell_type": "code",
   "execution_count": null,
   "metadata": {},
   "outputs": [],
   "source": [
    "soup.find(src).text)"
   ]
  },
  {
   "cell_type": "code",
   "execution_count": null,
   "metadata": {},
   "outputs": [],
   "source": [
    "### Scrape Mars Hemisphere images ###\n",
    "img_url = []\n",
    "title = []\n",
    "url_hemi = 'http://web.archive.org/web/20181114171728/https://astrogeology.usgs.gov/search/results?q=hemisphere+enhanced&k1=target&v1=Mars'\n",
    "\n",
    "browser.visit(url_hemi)\n",
    "response_hemi = requests.get(url_hemi)\n",
    "\n",
    "# Create soup object from html\n",
    "soup = BeautifulSoup(response_hemi.text, 'html.parser')\n",
    "result = soup.find_all('h3')\n",
    "\n",
    "# Prepare string\n",
    "title_str = str(result)\n",
    "title_str = title_str.replace(\"<h3>\", \"\")\n",
    "title_str = title_str.replace(\"</h3>\", \"\")\n",
    "title_str = title_str.replace(\"[\", \"\")\n",
    "title_str = title_str.replace(\"]\", \"\")\n",
    "title_str = title_str.strip()\n",
    "if \"Hemisphere\" not in title_str:  \n",
    "    title_str = title_str.replace(\"Enhanced\", \"Hemisphere\")\n",
    "else:\n",
    "    pass\n",
    "title = title_str.split(\",\")\n",
    "\n",
    "# Query for Cerberus Hemisphere\n",
    "## The daggum wayback website changed how it was feeding me pages \n",
    "## (by adding a pop-up banner), late at night. I had to redo this \n",
    "## section; i'm leaving in the old code in case it goes back to the\n",
    "## old way.\n",
    "\n",
    "xpath = '//*[@id=\"product-section\"]/div[2]/div[1]/div/a'\n",
    "browser.find_by_xpath(xpath).first.click()\n",
    "time.sleep(1)\n",
    "xpath2 = '//*[@id=\"wide-image\"]/div/ul/li[1]/a'\n",
    "browser.find_by_xpath(xpath2).first.click()\n",
    "time.sleep(1)\n",
    "#browser.back()\n",
    "url_1 = browser.url\n",
    "browser.visit(url_1)\n",
    "response_1 = requests.get(url_1)\n",
    "soup1 = BeautifulSoup(response_1.text, 'html.parser')\n",
    "img_src = soup1.find(\"img\", class_=\"wide-image\")[\"src\"]\n",
    "final_src = \"http://web.archive.org\" + img_src\n",
    "img_url.append(final_src) \n",
    "browser.back()\n",
    "\n",
    "# xpath3 = '//*[@id=\"wm-expand\"]/span[2]'\n",
    "# browser.find_by_xpath(xpath3).first.click()\n",
    "# time.sleep(1)\n",
    "# xpath4 = '//*[@id=\"wm-capresources\"]/div/a'\n",
    "# browser.find_by_xpath(xpath4).first.click()\n",
    "# browser.back()\n",
    "# browser.back()\n",
    "\n",
    "# Query for Schiaparelli Hemisphere\n",
    "xpath = '//*[@id=\"product-section\"]/div[2]/div[2]/div/a'\n",
    "browser.find_by_xpath(xpath).first.click()\n",
    "time.sleep(1)\n",
    "xpath2 = '//*[@id=\"wide-image\"]/div/ul/li[1]/a'\n",
    "browser.find_by_xpath(xpath2).first.click()\n",
    "time.sleep(1)\n",
    "#browser.back()\n",
    "url_1 = browser.url\n",
    "browser.visit(url_1)\n",
    "response_1 = requests.get(url_1)\n",
    "soup1 = BeautifulSoup(response_1.text, 'html.parser')\n",
    "img_src = soup1.find(\"img\", class_=\"wide-image\")[\"src\"]\n",
    "final_src = \"http://web.archive.org\" + img_src\n",
    "img_url.append(final_src) \n",
    "browser.back()\n",
    "\n",
    "# xpath3 = '//*[@id=\"wm-expand\"]/span[2]'\n",
    "# browser.find_by_xpath(xpath3).first.click()\n",
    "# time.sleep(1)\n",
    "# xpath4 = '//*[@id=\"wm-capresources\"]/div/a'\n",
    "# browser.find_by_xpath(xpath4).first.click()\n",
    "# browser.back()\n",
    "# browser.back()\n",
    "\n",
    "# Query for Syrtis Major Hemisphere\n",
    "xpath = '//*[@id=\"product-section\"]/div[2]/div[3]/div/a'\n",
    "browser.find_by_xpath(xpath).first.click()\n",
    "time.sleep(1)\n",
    "xpath2 = '//*[@id=\"wide-image\"]/div/ul/li[1]/a'\n",
    "browser.find_by_xpath(xpath2).first.click()\n",
    "time.sleep(1)\n",
    "#browser.back()\n",
    "url_1 = browser.url\n",
    "browser.visit(url_1)\n",
    "response_1 = requests.get(url_1)\n",
    "soup1 = BeautifulSoup(response_1.text, 'html.parser')\n",
    "img_src = soup1.find(\"img\", class_=\"wide-image\")[\"src\"]\n",
    "final_src = \"http://web.archive.org\" + img_src\n",
    "img_url.append(final_src) \n",
    "browser.back()\n",
    "\n",
    "# xpath3 = '//*[@id=\"wm-expand\"]/span[2]'\n",
    "# browser.find_by_xpath(xpath3).first.click()\n",
    "# time.sleep(1)\n",
    "# xpath4 = '//*[@id=\"wm-capresources\"]/div/a'\n",
    "# browser.find_by_xpath(xpath4).first.click()\n",
    "# browser.back()\n",
    "# browser.back()\n",
    "\n",
    "# Query for Valles Marineris Hemisphere\n",
    "xpath = '//*[@id=\"product-section\"]/div[2]/div[4]/div/a'\n",
    "browser.find_by_xpath(xpath).first.click()\n",
    "time.sleep(1)\n",
    "xpath2 = '//*[@id=\"wide-image\"]/div/ul/li[1]/a'\n",
    "browser.find_by_xpath(xpath2).first.click()\n",
    "time.sleep(1)\n",
    "\n",
    "# xpath3 = '//*[@id=\"wm-expand\"]/span[2]'\n",
    "# browser.find_by_xpath(xpath3).first_click()\n",
    "# time.sleep(1)\n",
    "# xpath4 = '//*[@id=\"wm-capresources\"]/div/a'\n",
    "# time.sleep(1)\n",
    "\n",
    "url_1 = browser.url\n",
    "browser.visit(url_1)\n",
    "response_1 = requests.get(url_1)\n",
    "soup1 = BeautifulSoup(response_1.text, 'html.parser')\n",
    "img_src = soup1.find(\"img\", class_=\"wide-image\")[\"src\"]\n",
    "final_src = \"http://web.archive.org\" + img_src\n",
    "img_url.append(final_src) \n",
    "# browser.windows.current = browser.windows[4]\n",
    "# img_url.append(browser.url)\n",
    "# browser.windows.current = browser.windows[3]\n",
    "# img_url.append(browser.url)\n",
    "# browser.windows.current = browser.windows[2]\n",
    "# img_url.append(browser.url)\n",
    "# browser.windows.current = browser.windows[1]\n",
    "# img_url.append(browser.url)"
   ]
  },
  {
   "cell_type": "code",
   "execution_count": null,
   "metadata": {},
   "outputs": [],
   "source": [
    "img_url"
   ]
  },
  {
   "cell_type": "code",
   "execution_count": null,
   "metadata": {},
   "outputs": [],
   "source": [
    "mars_hemi_df = pd.DataFrame(\n",
    "    {'title': title,\n",
    "     'img_url': img_url,\n",
    "    })\n",
    "mars_hemi_df.set_index(\"title\")"
   ]
  },
  {
   "cell_type": "code",
   "execution_count": null,
   "metadata": {},
   "outputs": [],
   "source": [
    "title_df"
   ]
  },
  {
   "cell_type": "code",
   "execution_count": null,
   "metadata": {},
   "outputs": [],
   "source": [
    "column_names = ['title']\n",
    "column_values = \n",
    "\n",
    "for i in ('apple', 'banana', 'carrot'):\n",
    "    fruitdict[i] = locals()[i]title\n",
    "name_value_tuples = zip(column_names, column_values)\n",
    "title_dict = {}\n",
    "for key, value in name_value_tuples:\n",
    "    if key in title_dict:\n",
    "        pass # Insert logic for handling duplicate keys\n",
    "    else:\n",
    "        title_dict[key] = value\n",
    "        \n",
    "\n",
    "        \n",
    "column_names = ['img_url', 'img_url', 'img_url', 'img_url']\n",
    "column_values = img_url\n",
    "name_value_tuples = zip(column_names, column_values)\n",
    "img_url_dict = {}\n",
    "for key, value in name_value_tuples:\n",
    "    if key in img_url_dict:\n",
    "        pass # Insert logic for handling duplicate keys\n",
    "    else:\n",
    "        img_url_dict[key] = value"
   ]
  },
  {
   "cell_type": "code",
   "execution_count": null,
   "metadata": {},
   "outputs": [],
   "source": [
    "#mars_hemi_images_dict = dict(zip(title, img_url))\n",
    "#mars_hemi_images_dict"
   ]
  },
  {
   "cell_type": "code",
   "execution_count": null,
   "metadata": {},
   "outputs": [],
   "source": [
    "title_str = str(title)\n",
    "img_url_str = str(img_url)"
   ]
  },
  {
   "cell_type": "code",
   "execution_count": null,
   "metadata": {},
   "outputs": [],
   "source": [
    "mars_dict_5 = {}\n",
    "mars_dict_5[\"title\"] = title_str\n",
    "mars_dict_5[\"img_urg\"] = img_url_str\n",
    "#mars_dict_list_5 = []\n",
    "#mars_dict_list_5.append(mars_dict_5.copy())\n",
    "#mars_dict_list_5\n",
    "mars_dict_6 = {k: v for k, v in zip(title, img_url)}\n",
    "mars_dict_6\n",
    "#for n in mars_dict_list_5:\n",
    "#    mars_dict_list_5 = collections.defaultdict(dict)\n",
    "#    mars_dict_list_5[\"title\"][\"img_url\"] = str(n)\n",
    "#    ultimate_list.append(node_dict)"
   ]
  },
  {
   "cell_type": "code",
   "execution_count": null,
   "metadata": {},
   "outputs": [],
   "source": [
    "#title = [\"title: \" + s for s in title]\n",
    "title = [\" \" + s for s in title]\n",
    "img_url = [\"img_url: \" + s for s in img_url]\n",
    "title"
   ]
  },
  {
   "cell_type": "code",
   "execution_count": null,
   "metadata": {},
   "outputs": [],
   "source": [
    "hemi_dict = {k: v for k, v in zip(title, img_url)}\n",
    "#hemi_dict_list = list(hemi_dict)\n",
    "hemi_dict"
   ]
  },
  {
   "cell_type": "code",
   "execution_count": null,
   "metadata": {},
   "outputs": [],
   "source": [
    "hemi_dict"
   ]
  },
  {
   "cell_type": "code",
   "execution_count": null,
   "metadata": {},
   "outputs": [],
   "source": [
    "def split_dict_equally(input_dict, chunks=4):\n",
    "    \"Splits dict by keys. Returns a list of dictionaries.\"\n",
    "    # prep with empty dicts\n",
    "    return_list = [dict() for idx in range(chunks)]\n",
    "    idx = 0\n",
    "    for k,v in input_dict.items():\n",
    "        return_list[idx][k] = v\n",
    "        if idx < chunks-1:  # indexes start at 0\n",
    "            idx += 1\n",
    "        else:\n",
    "            idx = 0\n",
    "    return return_list"
   ]
  },
  {
   "cell_type": "code",
   "execution_count": null,
   "metadata": {},
   "outputs": [],
   "source": [
    "split_dict_equally(hemi_dict, chunks=4)"
   ]
  },
  {
   "cell_type": "code",
   "execution_count": null,
   "metadata": {},
   "outputs": [],
   "source": [
    "#hemi_dict\n",
    "#re.sub('(:[^:]*),', r'\\1,', hemi_dict)"
   ]
  },
  {
   "cell_type": "markdown",
   "metadata": {},
   "source": [
    "hemi_list1 = [{hemi_dict} for k in range(3)]"
   ]
  },
  {
   "cell_type": "code",
   "execution_count": null,
   "metadata": {},
   "outputs": [],
   "source": [
    "# this is kind of cool: will test if an alternative to list of dicts\n",
    "hemi_list = hemi_dict.items()\n",
    "hemi_list"
   ]
  },
  {
   "cell_type": "markdown",
   "metadata": {},
   "source": [
    "for line in data_list\n",
    "\n",
    "details = (img_url)\n",
    "\n",
    "data_dict = defaultdict(list)\n",
    "data_dict[\"title\"].append()"
   ]
  },
  {
   "cell_type": "markdown",
   "metadata": {},
   "source": [
    "empty_dict = dict.fromkeys([\"title\", \"img_url\"])\n",
    "\n",
    "#for x in title:\n",
    "#    empty_dict[\"title\": x]\n",
    "\n",
    "#dict.setdefault(\"title\", []).append(title)\n",
    "#for x in empty_dict.title():\n",
    "#    empty_dict\n",
    "empty_dict.update({\"title\" : img_url[0]})\n",
    "empty_dict.update({\"title\" : img_url[1]})\n",
    "empty_dict.update({\"title\" : img_url[2]})\n",
    "empty_dict.update({\"title\" : img_url[3]})\n",
    "img_url[1]"
   ]
  },
  {
   "cell_type": "markdown",
   "metadata": {},
   "source": [
    "key_value = {}\n",
    "my_dictionary = {}\n",
    "list_key = ['title', 'title', 'title', 'title']\n",
    "list_val = title\n",
    "lenList = len(list_key)\n",
    "my_dict_output = {}\n",
    "\n",
    "for elements in range(0,lenList):\n",
    "    key = list_key[elements]\n",
    "    value = list_val[elements]\n",
    "    #Storing the extracted key value pair in the dictionary\n",
    "    key_value[key] = value\n",
    "print(key_value)"
   ]
  },
  {
   "cell_type": "markdown",
   "metadata": {},
   "source": [
    "# Convert 2 lists to dictionary\n",
    "#empty_dict = dict.fromkeys([\"title\", \"img_url\"])\n",
    "#dict.setdefault(\"title\", []).append(title)\n",
    "\n",
    "keys = [\"title\", \"title\", \"title\", \"title\"]\n",
    "values = title.values()\n",
    "#def create_dict(keys, values):\n",
    "#    return dict(zip(keys, values + [None] * (len(keys) - len(values))))\n",
    "\n",
    "title_dict = {k: v for k, v in zip(title, keys)}\n",
    "title_dict2 = {k: v for v, k in title_dict.items()}\n",
    "#new_dict = dict((v,k) for k,v in new_dict.items())\n",
    "\n",
    "keys2 = [\"img_url\", \"img_url\", \"img_url\", \"img_url\"]\n",
    "img_url\n",
    "img_url_dict = {k: v for k, v in zip(img_url, keys2)}\n",
    "img_url_dict1 = {k: v for v, k in zip(img_url, keys2)}\n",
    "#{k: v for e in img_url for k, v in zip(('', 'post_author'), e)}\n",
    "\n",
    "#img_url_dict = {k:v for (k,v) in img_url_dict}\n",
    "title_dict2\n",
    "img_url_dict1"
   ]
  },
  {
   "cell_type": "code",
   "execution_count": null,
   "metadata": {},
   "outputs": [],
   "source": [
    "mars_dict = {}\n",
    "mars_dict[\"Latest Mars News\"] = news_title\n",
    "mars_dict[\"News Paragraph\"] = news_p\n",
    "mars_dict[\"Featured Mars Image\"] = featured_image_url\n",
    "mars_dict[\"Current Weather on Mars\"] = mars_weather\n",
    "mars_dict[\"Mars Facts\"] = mars_facts_df\n",
    "mars_dict[\"Mars Hemispheres\"] = hemi_list\n",
    "\n",
    "#keys = [\"news\", \"img\", \"wx\", \"facts\", \"hemi\"]\n",
    "#values = [news_title, news_p, featured_image_url, mars_weather, mars_facts_df, hemi_list]\n",
    "\n",
    "##def scrape(values):\n",
    "##    scrape_dict = dict.fromkeys([\"news\", \"img\", \"wx\", \"facts\", \"hemi\"])\n",
    "##    #scrape_dict = dict(zip(news, img, wx, facts, hemi))\n",
    "##    scrape_dict = dict(zip(values))\n",
    "    \n",
    "#scrape_dict = \n",
    "\n",
    "#empty_dict = dict.fromkeys([\"news\", \"img\", \"wx\", \"facts\", \"hemi\"])\n",
    "#empty_dict\n",
    "mars_dict\n",
    "#scrape(values)"
   ]
  },
  {
   "cell_type": "code",
   "execution_count": null,
   "metadata": {},
   "outputs": [],
   "source": [
    "mars_facts_html"
   ]
  },
  {
   "cell_type": "code",
   "execution_count": null,
   "metadata": {},
   "outputs": [],
   "source": []
  }
 ],
 "metadata": {
  "kernelspec": {
   "display_name": "Python 3",
   "language": "python",
   "name": "python3"
  },
  "language_info": {
   "codemirror_mode": {
    "name": "ipython",
    "version": 3
   },
   "file_extension": ".py",
   "mimetype": "text/x-python",
   "name": "python",
   "nbconvert_exporter": "python",
   "pygments_lexer": "ipython3",
   "version": "3.6.6"
  }
 },
 "nbformat": 4,
 "nbformat_minor": 2
}
